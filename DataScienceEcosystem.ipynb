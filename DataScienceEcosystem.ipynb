{
 "cells": [
  {
   "cell_type": "markdown",
   "id": "3b83ffc4-a93d-4710-8f75-c6fc59e0c8cb",
   "metadata": {},
   "source": [
    "<h1>Data Science Tools and Ecosystem</h1>"
   ]
  },
  {
   "cell_type": "markdown",
   "id": "c30bfc25-8701-4ca8-900c-d732e92ef522",
   "metadata": {},
   "source": [
    "In this notebook, Data Science Tools and Ecosystem are summarized."
   ]
  },
  {
   "cell_type": "markdown",
   "id": "676d7984-3c4a-48e9-b18d-7d14fd3e17fa",
   "metadata": {
    "tags": []
   },
   "source": [
    "<b>Objectives:</b>\n",
    "<ul>\n",
    "    <li>List popular languages for Data Science.</li>\n",
    "    <li>Introduction to Packages, APIs, Data Sets and Models</li>\n",
    "    <li>Introduction to Jupyter Notebooks and JupyterLab </li>\n",
    "    <li>Introduction to R, RStudio and GitLab</li>\n",
    "</ul>"
   ]
  },
  {
   "cell_type": "markdown",
   "id": "ca77b8e7-958a-47e2-af4d-8e9f0258d3cc",
   "metadata": {},
   "source": [
    "Some of the popular languages that Data Scientists use are:\n",
    "<ol>\n",
    "    <li> Python\n",
    "    <li> R\n",
    "    <li> Julia\n",
    "</ol>"
   ]
  },
  {
   "cell_type": "markdown",
   "id": "8ae2e0e9-ca2a-4a97-a567-928c6cfc7a0d",
   "metadata": {},
   "source": [
    "Some of the commonly used libraries used by Data Scientists include:\n",
    "<ol>\n",
    "    <li> Pandas\n",
    "    <li> Scikit-learn\n",
    "    <li> Tensorflow\n",
    "</ol>"
   ]
  },
  {
   "cell_type": "markdown",
   "id": "c8151a18-e5ac-4b9a-962c-867c39578e81",
   "metadata": {
    "tags": []
   },
   "source": [
    "<table>\n",
    "  <tr><th>Data Science Tools</th></tr>\n",
    "  <tr><td>Jupyter Notebook</td></tr>\n",
    "  <tr><td>JupyterLab</td></tr>\n",
    "  <tr><td>RStudio</td></tr>\n",
    "</table>"
   ]
  },
  {
   "cell_type": "markdown",
   "id": "8e675ed7-66fe-413b-8be5-caac70b9df12",
   "metadata": {},
   "source": [
    "<h3>Below are a few examples of evaluating arithmetic expressions in Python</h3>"
   ]
  },
  {
   "cell_type": "code",
   "execution_count": 2,
   "id": "a9a77c83-66ed-4fce-b023-c8f744d0576f",
   "metadata": {
    "tags": []
   },
   "outputs": [
    {
     "data": {
      "text/plain": [
       "17"
      ]
     },
     "execution_count": 2,
     "metadata": {},
     "output_type": "execute_result"
    }
   ],
   "source": [
    "#This a simple arithmetic expression to mutiply then add integers\n",
    "(3*4)+5"
   ]
  },
  {
   "cell_type": "code",
   "execution_count": 3,
   "id": "59fda2b4-ccf1-43c9-b866-43963f40e1ff",
   "metadata": {
    "tags": []
   },
   "outputs": [
    {
     "data": {
      "text/plain": [
       "3.3333333333333335"
      ]
     },
     "execution_count": 3,
     "metadata": {},
     "output_type": "execute_result"
    }
   ],
   "source": [
    "#This will convert 200 minutes to hours by diving by 60\n",
    "200/60"
   ]
  },
  {
   "cell_type": "markdown",
   "id": "50773c74-d88e-419a-b3fc-c6be3c91bfa0",
   "metadata": {},
   "source": [
    "<h2>Author</h2>\n",
    "Zoheb Borbora"
   ]
  },
  {
   "cell_type": "code",
   "execution_count": null,
   "id": "db492760-acd1-474f-87fa-de33505ca5f4",
   "metadata": {},
   "outputs": [],
   "source": []
  }
 ],
 "metadata": {
  "kernelspec": {
   "display_name": "Python",
   "language": "python",
   "name": "conda-env-python-py"
  },
  "language_info": {
   "codemirror_mode": {
    "name": "ipython",
    "version": 3
   },
   "file_extension": ".py",
   "mimetype": "text/x-python",
   "name": "python",
   "nbconvert_exporter": "python",
   "pygments_lexer": "ipython3",
   "version": "3.7.12"
  }
 },
 "nbformat": 4,
 "nbformat_minor": 5
}
